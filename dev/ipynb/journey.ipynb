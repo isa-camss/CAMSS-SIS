{
 "cells": [
  {
   "cell_type": "markdown",
   "metadata": {},
   "source": [
    "<table>\n",
    "    <tr >\n",
    "        <td> <img src='../img/logo1.jpg' alt='assessment logo' width=110px height=100px margin-right=10px/>\n",
    "        </td>\n",
    "        <td> <img src='../img/POEU_logo.png' alt='EU logo' width=260px height=500px/> \n",
    "        </td>\n",
    "    </tr>\n",
    "</table>"
   ]
  },
  {
   "cell_type": "markdown",
   "metadata": {},
   "source": [
    "<center>\n",
    "    <h1 style='text-align: center;font-weight: bold;'> \n",
    "        Specification Assesser's Journey\n",
    "    </h1>\n",
    "</center>"
   ]
  },
  {
   "cell_type": "markdown",
   "metadata": {},
   "source": [
    "<p style='text-align: justify'> \n",
    "Welcome to this user journey, you are here because you want to discover legal and organisational specifications in the EURLEX corpus, in order to be able to describe and evaluate them. We invite you to follow each of the steps below.</p>\n",
    "<h3>Let's start!</h3>\n",
    "<p style='text-align: justify'> \n",
    "Beware that the following preconditions are to be met for the code to run successfuly: \n",
    "    <ul>\n",
    "        <li>All CAMSS SIS Services are up and running,</li>\n",
    "        <li>Open source Virtuoso director is up and running,</li>\n",
    "        <li>Open source Elasticsearch is up and running,</li>\n",
    "        <li>Open source Kibana is up and running,</li>\n",
    "        <li>The configuration files are correct and ready for this Demo.</li>\n",
    "    </ul>\n",
    "Click on the \"Kernel\" menu and choose the option \"Restart & Run All\". Once you have started the application you can press the button \"Show code\" if you want to see some pieces of code that launch UI components.</p>"
   ]
  },
  {
   "cell_type": "code",
   "execution_count": 1,
   "metadata": {
    "scrolled": true
   },
   "outputs": [
    {
     "data": {
      "text/html": [
       "<script>\n",
       "code_show=true; \n",
       "function code_toggle() {\n",
       " if (code_show){\n",
       " $('div.input').hide();\n",
       " } else {\n",
       " $('div.input').show();\n",
       " }\n",
       " code_show = !code_show\n",
       "} \n",
       "$( document ).ready(code_toggle);\n",
       "</script>\n",
       "<form action=\"javascript:code_toggle()\">\n",
       "<input type=\"submit\" value=\"Show code.\"></form>"
      ],
      "text/plain": [
       "<IPython.core.display.HTML object>"
      ]
     },
     "metadata": {},
     "output_type": "display_data"
    }
   ],
   "source": [
    "import sys\n",
    "sys.path.append('../')\n",
    "import margo_loader\n",
    "import requests\n",
    "import cfg.ctt as ctt\n",
    "from IPython.display import Markdown as md\n",
    "import UI_components.component_hide_button\n"
   ]
  },
  {
   "cell_type": "markdown",
   "metadata": {},
   "source": [
    "<img src='../img/sis_journey_1.jpg' alt='CAMSS SIS journey 1' width=55% height=55% align=\"left\"/>"
   ]
  },
  {
   "cell_type": "code",
   "execution_count": 2,
   "metadata": {},
   "outputs": [
    {
     "data": {
      "text/markdown": [
       "response: b'{\"message\": \"Report: {\\'warning\\': [], \\'message\\': [\\'Thesauri folders preparation finished in 0:00:00.013961\\', \\'Thesauri download finished in 0:00:00.742034\\', \\'Thesauri lemmatization finished in 0:00:04.626959\\', \\'Response from Virtuoso is ok. Done in 0:00:00.298036. Status code: 200\\', \\'Response from Virtuoso is ok. Done in 0:00:00.066731. Status code: 200\\', \\'Persistence finished in 0:00:00.370749\\', \\'Terms lemmatization finished in 0:00:02.260393\\'], \\'error\\': []}. Done in: 0:00:08.029057\"}\\n' // status code: 200"
      ],
      "text/plain": [
       "<IPython.core.display.Markdown object>"
      ]
     },
     "execution_count": 2,
     "metadata": {},
     "output_type": "execute_result"
    }
   ],
   "source": [
    "sys.path.append('../')\n",
    "thesauri_processor_response = requests.post(ctt.URL_THESAURI_PROCESSOR)\n",
    "md(f\"response: {thesauri_processor_response.content} // status code: {thesauri_processor_response.status_code}\")"
   ]
  },
  {
   "cell_type": "markdown",
   "metadata": {},
   "source": [
    "<img src='../img/sis_journey_2.jpg' alt='CAMSS SIS journey 1' width=90% height=90% align=\"left\"/>"
   ]
  },
  {
   "cell_type": "code",
   "execution_count": 3,
   "metadata": {},
   "outputs": [
    {
     "data": {
      "text/markdown": [
       "response: b'{\"message\": \"Done in: 0:05:37.535204\"}\\n' // status code: 200"
      ],
      "text/plain": [
       "<IPython.core.display.Markdown object>"
      ]
     },
     "execution_count": 3,
     "metadata": {},
     "output_type": "execute_result"
    }
   ],
   "source": [
    "sys.path.append('../')\n",
    "resources_processor_response = requests.post(ctt.URL_RESOURCES_PROCESSOR)\n",
    "md(f\"response: {resources_processor_response.content} // status code: {resources_processor_response.status_code}\")"
   ]
  },
  {
   "cell_type": "markdown",
   "metadata": {},
   "source": [
    "<img src='../img/sis_journey_3.jpg' alt='CAMSS SIS journey 1' width=37% height=37% align=\"left\"/>"
   ]
  },
  {
   "cell_type": "markdown",
   "metadata": {},
   "source": [
    "<p>It's time to start looking for specifications!\n",
    "Make sure you have run Elasticsearch and Kibana and go to the <a href= http://localhost:5601/app/dashboards#/view/01cbce10-a142-11ec-8c40-49e14a8866da?_g=(filters:!(),refreshInterval:(pause:!t,value:0),time:(from:now-15m,to:now))>Searcher</a> that CAMSS Team designed for you.  \n",
    "</p>"
   ]
  },
  {
   "cell_type": "code",
   "execution_count": null,
   "metadata": {},
   "outputs": [],
   "source": []
  }
 ],
 "metadata": {
  "kernelspec": {
   "display_name": "sis_venv",
   "language": "python",
   "name": "sis_venv"
  },
  "language_info": {
   "codemirror_mode": {
    "name": "ipython",
    "version": 3
   },
   "file_extension": ".py",
   "mimetype": "text/x-python",
   "name": "python",
   "nbconvert_exporter": "python",
   "pygments_lexer": "ipython3",
   "version": "3.8.5"
  }
 },
 "nbformat": 4,
 "nbformat_minor": 4
}
