{
 "cells": [
  {
   "cell_type": "markdown",
   "metadata": {},
   "source": [
    "<table>\n",
    "    <tr >\n",
    "        <td> <img src='../img/logo1.jpg' alt='assessment logo' width=110px height=100px margin-right=10px/>\n",
    "        </td>\n",
    "        <td> <img src='../img/POEU_logo.png' alt='EU logo' width=260px height=500px/> \n",
    "        </td>\n",
    "    </tr>\n",
    "</table>"
   ]
  },
  {
   "cell_type": "markdown",
   "metadata": {},
   "source": [
    "<center>\n",
    "    <h1 style='text-align: center;font-weight: bold;'> \n",
    "        Specification Assesser's Journey\n",
    "    </h1>\n",
    "</center>"
   ]
  },
  {
   "cell_type": "markdown",
   "metadata": {},
   "source": [
    "<p style='text-align: justify'> \n",
    "Welcome to this user journey, you are here because you want to discover legal and organisational specifications in the EURLEX corpus, in order to be able to describe and evaluate them. We invite you to follow each of the steps below.</p>\n",
    "<h3>Let's start!</h3>\n",
    "<p style='text-align: justify'> \n",
    "Beware that the following preconditions are to be met for the code to run successfuly: \n",
    "    <ul>\n",
    "        <li>All CAMSS SIS Services are up and running,</li>\n",
    "        <li>Open source Virtuoso director is up and running,</li>\n",
    "        <li>Open source Elasticsearch is up and running,</li>\n",
    "        <li>Open source Kibana is up and running,</li>\n",
    "        <li>The configuration files are correct and ready for this Demo.</li>\n",
    "    </ul>\n",
    "Click on the \"Kernel\" menu and choose the option \"Restart & Run All\". Once you have started the application you can press the button \"Show code\" if you want to see some pieces of code that launch UI components.</p>"
   ]
  },
  {
   "cell_type": "code",
   "execution_count": 3,
   "metadata": {
    "scrolled": true
   },
   "outputs": [],
   "source": [
    "import sys\n",
    "sys.path.append('../')\n",
    "import margo_loader\n",
    "import requests\n",
    "import cfg.ctt as ctt\n",
    "from IPython.display import Markdown as md\n",
    "import UI_components.component_hide_button"
   ]
  },
  {
   "cell_type": "markdown",
   "metadata": {},
   "source": [
    "<img src='../img/sis_journey_1.jpg' alt='CAMSS SIS journey 1' width=55% height=55% align=\"left\"/>"
   ]
  },
  {
   "cell_type": "code",
   "execution_count": 4,
   "metadata": {},
   "outputs": [
    {
     "data": {
      "text/markdown": [
       "response: b'{\"message\": \"Report: {\\'message\\': [\\'Thesauri folders preparation finished in 0:00:00.095745\\', \\'Thesauri download finished in 0:00:00.639840\\', \\'Thesauri lemmatization finished in 0:00:06.092402\\', \\'Persistence finished in 0:00:00.277326\\', \\'Eira terms persistence finished in 0:00:03.015873\\'], \\'warning\\': [], \\'error\\': []}. Done in: 0:00:10.383504\"}\\n' // status code: 200"
      ],
      "text/plain": [
       "<IPython.core.display.Markdown object>"
      ]
     },
     "execution_count": 4,
     "metadata": {},
     "output_type": "execute_result"
    }
   ],
   "source": [
    "thesauri_processor_response = requests.post(ctt.URL_THESAURI_PROCESSOR)\n",
    "md(f\"response: {thesauri_processor_response.content} // status code: {thesauri_processor_response.status_code}\")"
   ]
  },
  {
   "cell_type": "markdown",
   "metadata": {},
   "source": [
    "<img src='../img/sis_journey_2.jpg' alt='CAMSS SIS journey 1' width=90% height=90% align=\"left\"/>"
   ]
  },
  {
   "cell_type": "code",
   "execution_count": null,
   "metadata": {},
   "outputs": [],
   "source": [
    "sys.path.append('../')\n",
    "resources_processor_response = requests.post(ctt.URL_RESOURCES_PROCESSOR)\n",
    "md(f\"response: {resources_processor_response.content} // status code: {resources_processor_response.status_code}\")"
   ]
  },
  {
   "cell_type": "markdown",
   "metadata": {},
   "source": [
    "<img src='../img/sis_journey_3.jpg' alt='CAMSS SIS journey 1' width=37% height=37% align=\"left\"/>"
   ]
  },
  {
   "cell_type": "markdown",
   "metadata": {},
   "source": [
    "<p>It's time to start looking for specifications!\n",
    "Make sure you have run Elasticsearch and Kibana and go to the <a href= http://localhost:5601/app/dashboards#/view/cd68fb60-ab9c-11ec-af51-1b01e6d20800?_g=(filters%3A!()%2CrefreshInterval%3A(pause%3A!t%2Cvalue%3A0)%2Ctime%3A(from%3Anow%2Fw%2Cto%3Anow%2Fw))>Searcher</a> that CAMSS Team designed for you.  \n",
    "</p>"
   ]
  },
  {
   "cell_type": "markdown",
   "metadata": {},
   "source": [
    "<iframe src=\"http://localhost:5601/app/dashboards#/view/cd68fb60-ab9c-11ec-af51-1b01e6d20800?embed=true&_g=(filters%3A!()%2CrefreshInterval%3A(pause%3A!t%2Cvalue%3A0)%2Ctime%3A(from%3Anow-30d%2Fd%2Cto%3Anow))&show-top-menu=true&show-query-input=true&show-time-filter=true\" height=\"600\" width=\"800\"></iframe>"
   ]
  },
  {
   "cell_type": "code",
   "execution_count": null,
   "metadata": {},
   "outputs": [],
   "source": []
  }
 ],
 "metadata": {
  "kernelspec": {
   "display_name": "sis_venv",
   "language": "python",
   "name": "sis_venv"
  },
  "language_info": {
   "codemirror_mode": {
    "name": "ipython",
    "version": 3
   },
   "file_extension": ".py",
   "mimetype": "text/x-python",
   "name": "python",
   "nbconvert_exporter": "python",
   "pygments_lexer": "ipython3",
   "version": "3.8.5"
  }
 },
 "nbformat": 4,
 "nbformat_minor": 4
}
