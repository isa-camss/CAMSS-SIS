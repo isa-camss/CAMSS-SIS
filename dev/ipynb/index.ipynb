{
 "cells": [
  {
   "cell_type": "markdown",
   "metadata": {},
   "source": [
    "<nav>\n",
    "  <a href=\"index.ipynb\">Home</a> &nbsp;&nbsp;&nbsp;\n",
    "  <a href=\"journey.ipynb\">User Journey</a> &nbsp;&nbsp;&nbsp;\n",
    "</nav>"
   ]
  },
  {
   "cell_type": "markdown",
   "id": "274b8a01-2513-441e-9b35-268eb0f5bc5e",
   "metadata": {},
   "source": [
    "<table>\n",
    "    <tr >\n",
    "        <td> <img src='../img/logo1.jpg' alt='assessment logo' width=110px height=100px margin-right=10px/>\n",
    "        </td>\n",
    "        <td> <img src='../img/POEU_logo.png' alt='EU logo' width=260px height=500px/> \n",
    "        </td>\n",
    "    </tr>\n",
    "</table>"
   ]
  },
  {
   "cell_type": "markdown",
   "id": "20815ae3-8f30-4398-a7dd-9ddfaa541f31",
   "metadata": {
    "tags": []
   },
   "source": [
    "<center>\n",
    "    <h1 style='text-align: center;font-weight: bold;'> \n",
    "        CAMSS SIS<br>Semi-automated tool for the identification and association of legal and organisational specifications.\n",
    "    </h1>\n",
    "</center>"
   ]
  },
  {
   "cell_type": "markdown",
   "id": "a2f63758",
   "metadata": {},
   "source": [
    "<h2>CONTEXT</h2>\n",
    "<p>CAMSS identifies the standards and specifications to be assessed, but also provides, through the EIRA Library of Interoperability Specifications (ELIS), a set of interoperability specifications that can be used to define the different aspects of interoperability of European public services.\n",
    "\n",
    "The process of identifying, classifying and cataloguing the specifications is currently done manually by the CAMSS team. This requires intensive and time-consuming investment in analysis and curation.\n",
    "\n",
    "This developed tool allows all specifications identified in the context of CAMSS to be identified semi-automatically, improving the performance of the CAMSS team.</p>\n",
    "\n",
    "<img src='../img/camss_sis_uc0.jpg' alt='CAMSS SIS use cases' width=100% height=100%/>"
   ]
  },
  {
   "cell_type": "markdown",
   "id": "75391a6a",
   "metadata": {},
   "source": [
    "<h2>TO RUN!</h2>"
   ]
  },
  {
   "cell_type": "markdown",
   "id": "efd22e7c",
   "metadata": {},
   "source": [
    "<p>Beware that the following preconditions are to be met for the code to run successfuly: \n",
    "    <ul>\n",
    "        <li>All CAMSS SIS Services are up and running</li>\n",
    "        <li>Open source Virtuoso director is up and running</li>\n",
    "        <li>The configuration files are correct and ready for this Demo</li>\n",
    "    </ul>\n",
    "</p>"
   ]
  },
  {
   "cell_type": "code",
   "execution_count": 1,
   "id": "9478051d",
   "metadata": {
    "scrolled": false
   },
   "outputs": [
    {
     "ename": "ModuleNotFoundError",
     "evalue": "No module named 'ipywidgets'",
     "output_type": "error",
     "traceback": [
      "\u001b[1;31m---------------------------------------------------------------------------\u001b[0m",
      "\u001b[1;31mModuleNotFoundError\u001b[0m                       Traceback (most recent call last)",
      "Input \u001b[1;32mIn [1]\u001b[0m, in \u001b[0;36m<module>\u001b[1;34m\u001b[0m\n\u001b[0;32m      3\u001b[0m \u001b[38;5;28;01mimport\u001b[39;00m \u001b[38;5;21;01mrequests\u001b[39;00m\n\u001b[0;32m      4\u001b[0m \u001b[38;5;28;01mimport\u001b[39;00m \u001b[38;5;21;01mcfg\u001b[39;00m\u001b[38;5;21;01m.\u001b[39;00m\u001b[38;5;21;01mctt\u001b[39;00m \u001b[38;5;28;01mas\u001b[39;00m \u001b[38;5;21;01mctt\u001b[39;00m\n\u001b[1;32m----> 5\u001b[0m \u001b[38;5;28;01mimport\u001b[39;00m \u001b[38;5;21;01mipywidgets\u001b[39;00m \u001b[38;5;28;01mas\u001b[39;00m \u001b[38;5;21;01mwidgets\u001b[39;00m\n\u001b[0;32m      6\u001b[0m \u001b[38;5;28;01mfrom\u001b[39;00m \u001b[38;5;21;01mipywidgets\u001b[39;00m \u001b[38;5;28;01mimport\u001b[39;00m Text\n\u001b[0;32m      7\u001b[0m \u001b[38;5;28;01mfrom\u001b[39;00m \u001b[38;5;21;01mIPython\u001b[39;00m\u001b[38;5;21;01m.\u001b[39;00m\u001b[38;5;21;01mdisplay\u001b[39;00m \u001b[38;5;28;01mimport\u001b[39;00m Markdown \u001b[38;5;28;01mas\u001b[39;00m md\n",
      "\u001b[1;31mModuleNotFoundError\u001b[0m: No module named 'ipywidgets'"
     ]
    }
   ],
   "source": [
    "import sys\n",
    "sys.path.append('../')\n",
    "import requests\n",
    "import cfg.ctt as ctt\n",
    "import ipywidgets as widgets\n",
    "from ipywidgets import Text\n",
    "from IPython.display import Markdown as md"
   ]
  },
  {
   "cell_type": "markdown",
   "metadata": {},
   "source": [
    "<strong>Note:</strong> If you want to know more about what is running this module, you can consult the <a href='UI_components/component_input.ipynb'>component code</a>.   \n",
    "</p>"
   ]
  },
  {
   "cell_type": "code",
   "execution_count": null,
   "metadata": {},
   "outputs": [],
   "source": []
  },
  {
   "cell_type": "markdown",
   "id": "51e546cf",
   "metadata": {},
   "source": [
    "<h2>USE CASE 1:THESAURI MANAGEMENT</h2>\n",
    "<img src='../img/camss_sis_uc1.jpg' alt='CAMSS SIS use cases' width=60% height=60% align=\"left\"/>"
   ]
  },
  {
   "cell_type": "code",
   "execution_count": null,
   "id": "21bb2f3c",
   "metadata": {},
   "outputs": [],
   "source": [
    "sys.path.append('../')\n",
    "thesauri_processor_response = requests.post(ctt.URL_THESAURI_PROCESSOR)\n",
    "md(f\"response: {thesauri_processor_response.content} // status code: {thesauri_processor_response.status_code}\")"
   ]
  },
  {
   "cell_type": "markdown",
   "id": "9405ef3d",
   "metadata": {},
   "source": [
    "<h2>USE CASE 2:CORPORA MANAGEMENT</h2>\n",
    "<img src='../img/camss_sis_uc2.jpg' alt='CAMSS SIS use cases' width=100% height=100% align=\"left\"/>"
   ]
  },
  {
   "cell_type": "code",
   "execution_count": null,
   "id": "7d920a4f",
   "metadata": {},
   "outputs": [],
   "source": [
    "sys.path.append('../')\n",
    "resources_processor_response = requests.post(ctt.URL_RESOURCES_PROCESSOR)\n",
    "md(f\"response: {resources_processor_response.content} // status code: {resources_processor_response.status_code}\")"
   ]
  },
  {
   "cell_type": "markdown",
   "id": "757c214e",
   "metadata": {},
   "source": [
    "<h2>USE CASE 3: KEYTERM-RESOURCE BINDING</h2>\n",
    "<img src='../img/camss_sis_uc3.jpg' alt='CAMSS SIS use cases' width=40% height=40% align=\"left\"/>"
   ]
  },
  {
   "cell_type": "code",
   "execution_count": null,
   "id": "6a196cce",
   "metadata": {},
   "outputs": [],
   "source": []
  },
  {
   "cell_type": "markdown",
   "id": "d637c8b0",
   "metadata": {},
   "source": [
    "<h2>USE CASE 4: SEARCHER</h2>\n",
    "<img src='../img/camss_sis_uc4.jpg' alt='CAMSS SIS use cases' width=40% height=40% align=\"left\"/>"
   ]
  },
  {
   "cell_type": "code",
   "execution_count": null,
   "id": "d28d1f5b",
   "metadata": {},
   "outputs": [],
   "source": []
  }
 ],
 "metadata": {
  "kernelspec": {
   "display_name": "sis_venv",
   "language": "python",
   "name": "sis_venv"
  },
  "language_info": {
   "codemirror_mode": {
    "name": "ipython",
    "version": 3
   },
   "file_extension": ".py",
   "mimetype": "text/x-python",
   "name": "python",
   "nbconvert_exporter": "python",
   "pygments_lexer": "ipython3",
   "version": "3.8.5"
  }
 },
 "nbformat": 4,
 "nbformat_minor": 5
}
