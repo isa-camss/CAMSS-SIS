{
 "cells": [
  {
   "cell_type": "markdown",
   "id": "274b8a01-2513-441e-9b35-268eb0f5bc5e",
   "metadata": {},
   "source": [
    "<table>\n",
    "    <tr >\n",
    "        <td> <img src='../img/logo1.jpg' alt='assessment logo' width=110px height=100px margin-right=10px/>\n",
    "        </td>\n",
    "        <td> <img src='../img/POEU_logo.png' alt='EU logo' width=260px height=500px/> \n",
    "        </td>\n",
    "    </tr>\n",
    "</table>"
   ]
  },
  {
   "cell_type": "markdown",
   "id": "20815ae3-8f30-4398-a7dd-9ddfaa541f31",
   "metadata": {
    "tags": []
   },
   "source": [
    "<center>\n",
    "    <h1 style='text-align: center;font-weight: bold;'> \n",
    "        CAMSS SIS<br>Semi-automated Tool For The Identification And Association Of Specifications\n",
    "    </h1>\n",
    "</center>"
   ]
  },
  {
   "cell_type": "markdown",
   "id": "1cd2daa1-7f29-4cf1-a2db-109c201b8f01",
   "metadata": {},
   "source": [
    "<p style='text-align: justify'>\n",
    "    CAMSS identifies standards and specifications to be assessed, but also provides through the EIRA Library of Interoperability Specifications (ELIS) a set of interoperability specifications that can be used to define the different interoperability aspects of European public services.\n",
    "    \n",
    "This developed tool allows that all specifications identified in the context of CAMSS are collected and maintained as a separate collection. This collection is to be transformed into an RDF-OWL graph, which will be available at the Publications Office SPARQL endpoint, and as an RDF file publicly accessible from the European Open Data Portal.\n",
    "Since the specifications identified in CAMSS are described using the Core Standards and Specifications Vocabulary (CSSV), any interested part can benefit from reusing this catalogue of standards and specifications, including MS Public Administrations, EU Institutions, Private Industry, SSO and SDO, software architects, developers and vendors, etc. \n",
    "</p>"
   ]
  },
  {
   "cell_type": "markdown",
   "metadata": {},
   "source": [
    "<h2>Thesauri Processor</h2>\n",
    "\n",
    "<p>This feature aims to manage all the functionalities related to the Thesauri used, once the microservice is running:\n",
    "    <ul>\n",
    "        <li>Download EIRA thesauri from Joinup,</li>\n",
    "        <li>Lemmatise its prefLabel,</li>\n",
    "        <li>And finally map the lemmatised concepts,</li>\n",
    "    </ul>\n",
    "</p>"
   ]
  },
  {
   "cell_type": "code",
   "execution_count": null,
   "metadata": {},
   "outputs": [],
   "source": []
  },
  {
   "cell_type": "markdown",
   "metadata": {},
   "source": [
    "<h2>Resources Processor</h2>\n",
    "\n",
    "<p>Description</p>"
   ]
  },
  {
   "cell_type": "code",
   "execution_count": null,
   "metadata": {},
   "outputs": [],
   "source": []
  }
 ],
 "metadata": {
  "kernelspec": {
   "display_name": "sis_venv",
   "language": "python",
   "name": "sis_venv"
  },
  "language_info": {
   "codemirror_mode": {
    "name": "ipython",
    "version": 3
   },
   "file_extension": ".py",
   "mimetype": "text/x-python",
   "name": "python",
   "nbconvert_exporter": "python",
   "pygments_lexer": "ipython3",
   "version": "3.8.5"
  }
 },
 "nbformat": 4,
 "nbformat_minor": 5
}
