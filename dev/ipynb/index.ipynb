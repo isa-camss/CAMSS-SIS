{
 "cells": [
  {
   "cell_type": "markdown",
   "metadata": {},
   "source": [
    "<nav>\n",
    "  <a href=\"index.ipynb\">Home</a> &nbsp;&nbsp;&nbsp;\n",
    "  <a href=\"journey.ipynb\">User Journey</a> &nbsp;&nbsp;&nbsp;\n",
    "</nav>"
   ]
  },
  {
   "cell_type": "markdown",
   "id": "274b8a01-2513-441e-9b35-268eb0f5bc5e",
   "metadata": {},
   "source": [
    "<table>\n",
    "    <tr >\n",
    "        <td> <img src='../img/logo1.jpg' alt='assessment logo' width=110px height=100px margin-right=10px/>\n",
    "        </td>\n",
    "        <td> <img src='../img/POEU_logo.png' alt='EU logo' width=260px height=500px/> \n",
    "        </td>\n",
    "    </tr>\n",
    "</table>"
   ]
  },
  {
   "cell_type": "markdown",
   "id": "20815ae3-8f30-4398-a7dd-9ddfaa541f31",
   "metadata": {
    "tags": []
   },
   "source": [
    "<center>\n",
    "    <h1 style='text-align: center;font-weight: bold;'> \n",
    "        CAMSS SIS<br>Semi-automated tool for the identification and association of legal and organisational specifications.\n",
    "    </h1>\n",
    "</center>"
   ]
  },
  {
   "cell_type": "markdown",
   "id": "a2f63758",
   "metadata": {},
   "source": [
    "<h2>CONTEXT</h2>\n",
    "<p>CAMSS identifies the standards and specifications to be assessed, but also provides, through the EIRA Library of Interoperability Specifications (ELIS), a set of interoperability specifications that can be used to define the different aspects of interoperability of European public services.\n",
    "\n",
    "The process of identifying, classifying and cataloguing the specifications is currently done manually by the CAMSS team. This requires intensive and time-consuming investment in analysis and curation.\n",
    "\n",
    "This developed tool allows all specifications identified in the context of CAMSS to be identified semi-automatically, improving the performance of the CAMSS team.</p>\n",
    "\n",
    "<p style='text-align: justify'>\n",
    "    The image below shows the model of this user story, it is important to define :\n",
    "    <ul>\n",
    "        <li>User story to understand who is using the tool and what their objectives are,</li>\n",
    "        <li>Use case to delimit the scope and approaches that the user has to fulfil their objective,</li>\n",
    "        <li>Route of steps that the user can follow to achieve their objective little by little in a sequential way.</li>\n",
    "    </ul>\n",
    "</p>\n",
    "<h4>\n",
    "    User Story Model\n",
    "</h4>\n",
    "\n",
    "<img src='../img/camss_sis_user_story.jpg' alt='CAMSS SIS user story model' width=100% height=100%/>\n",
    "\n",
    "<p style='text-align: justify'>\n",
    "    Each of the steps that the user will take in order to use the CAMSS SIS are described in the image below:\n",
    "</p>\n",
    "<h4>\n",
    "    CAMSS SIS User Journeys Steps\n",
    "</h4>\n",
    "\n",
    "<img src='../img/camms_sis_journeys.jpg' alt='CAMSS SIS journeys' width=70% height=70%/>\n",
    "\n",
    "<p style='text-align: justify'>\n",
    "    It's time to use the CAMSS SIS tool, it will help you in your specification and standards discover process. Go to the <a href=\"journey.ipynb\">User journeys</a> that the CAMSS team has prepared for you. \n",
    "</p>"
   ]
  },
  {
   "cell_type": "code",
   "execution_count": null,
   "metadata": {},
   "outputs": [],
   "source": []
  }
 ],
 "metadata": {
  "kernelspec": {
   "display_name": "sis_venv",
   "language": "python",
   "name": "sis_venv"
  },
  "language_info": {
   "codemirror_mode": {
    "name": "ipython",
    "version": 3
   },
   "file_extension": ".py",
   "mimetype": "text/x-python",
   "name": "python",
   "nbconvert_exporter": "python",
   "pygments_lexer": "ipython3",
   "version": "3.8.5"
  }
 },
 "nbformat": 4,
 "nbformat_minor": 5
}
