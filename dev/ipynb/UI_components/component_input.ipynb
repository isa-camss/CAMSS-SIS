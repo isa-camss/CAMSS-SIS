{
 "cells": [
  {
   "cell_type": "markdown",
   "metadata": {},
   "source": [
    "<nav>\n",
    "  <a href=\"../journey.ipynb\">Back</a> &nbsp;&nbsp;&nbsp;\n",
    "</nav>"
   ]
  },
  {
   "cell_type": "markdown",
   "metadata": {},
   "source": [
    "<center>\n",
    "    <strong>\n",
    "        <h1 style='text-align: center;'>\n",
    "            UI DEVELOPMENT <br>FOR ADD STANDARDS TO SEARCH\n",
    "        </h1>\n",
    "    </strong>\n",
    "</center>"
   ]
  },
  {
   "cell_type": "markdown",
   "metadata": {},
   "source": [
    "<h2>1. Import resources </h2>\n",
    "    \n",
    "<p style='text-align: justify'>The following block is importing:</p>\n",
    "     <ul style='text-align: justify'>\n",
    "      <li>The module with the global variables to allow you connect to the API that performs the Cellar Triplestore query and also have a query collection.</li>\n",
    "      <li>The libraries needed to create the UI components and format results.</li>\n",
    "    </ul>"
   ]
  },
  {
   "cell_type": "code",
   "execution_count": 1,
   "metadata": {
    "tags": []
   },
   "outputs": [],
   "source": [
    "import sys\n",
    "sys.path.append('../../')\n",
    "import requests\n",
    "import ipywidgets as widgets\n",
    "from ipywidgets import Text, Layout, AppLayout\n",
    "from pprint import pprint\n",
    "import cfg.ctt as ctt\n",
    "from IPython.display import display, HTML"
   ]
  },
  {
   "cell_type": "markdown",
   "metadata": {},
   "source": [
    "<h2>2. Variables </h2>\n",
    "    \n",
    "<p style='text-align: justify'>The following block is defining the global variables necessary to this UI module</p>"
   ]
  },
  {
   "cell_type": "code",
   "execution_count": 2,
   "metadata": {
    "tags": []
   },
   "outputs": [],
   "source": [
    "# TERM_IN = \"\""
   ]
  },
  {
   "cell_type": "markdown",
   "metadata": {
    "tags": []
   },
   "source": [
    "<h2>3. UI component </h2>\n",
    "    \n",
    "<p style='text-align: justify'>The following block makes use of <a href='https://ipywidgets.readthedocs.io/en/latest/index.html'>Ipywidgets Library</a> for the creation of the ui component used by the user to interact with SPARQL queries. The widgets used are:</p>\n",
    "    <ul style='text-align: justify'>\n",
    "      <li>1. <u>Tab</u> it is used as container to hold other widgets called children. Allows to distribute the content by tabs\n",
    "          depending on what to show the user for each tab.</li>\n",
    "      <li>2. <u>VBox</u> it is used as Layout of conatiner widtget to organise the children widgets vertically</li>\n",
    "      <li>2. <u>HTML</u> is used to display a string value. Allows format it with css styles. </li>\n",
    "      <li>3. <u>Textarea</u> is a widget that accept the user's input. </li>\n",
    "      <li>4. <u>Button</u> is used to trigger an event</li>\n",
    "      <li>4. <u>Output</u> is the event that captures the return of the function that sends the query to the API to make SPARQL queries \n",
    "          to the CELLAR Triplestore Endpoint.</li>\n",
    "    </ul>"
   ]
  },
  {
   "cell_type": "code",
   "execution_count": 3,
   "metadata": {},
   "outputs": [
    {
     "data": {
      "application/vnd.jupyter.widget-view+json": {
       "model_id": "09ff49f6318042d786b87f555ea9d621",
       "version_major": 2,
       "version_minor": 0
      },
      "text/plain": [
       "Text(value='', description='Search:', placeholder='Type a term')"
      ]
     },
     "metadata": {},
     "output_type": "display_data"
    },
    {
     "data": {
      "application/vnd.jupyter.widget-view+json": {
       "model_id": "54360171c82c4485b5500df47e287c58",
       "version_major": 2,
       "version_minor": 0
      },
      "text/plain": [
       "Button(description='Add', style=ButtonStyle())"
      ]
     },
     "metadata": {},
     "output_type": "display_data"
    },
    {
     "data": {
      "application/vnd.jupyter.widget-view+json": {
       "model_id": "d48315ba3ab0444ba1dec681919b4076",
       "version_major": 2,
       "version_minor": 0
      },
      "text/plain": [
       "Output()"
      ]
     },
     "metadata": {},
     "output_type": "display_data"
    }
   ],
   "source": [
    "text_area= widgets.Text(\n",
    "    placeholder='Type a term',\n",
    "    description='Search:',\n",
    "    disabled=False\n",
    ")\n",
    "\n",
    "button = widgets.Button(description=\"Add\")\n",
    "display(text_area, button)\n",
    "\n",
    "TERM_IN:str\n",
    "\n",
    "def get_term():\n",
    "    global TERM_IN\n",
    "    TERM_IN = text_area.value\n",
    "    display(TERM_IN)\n",
    "\n",
    "output= widgets.Output()\n",
    "@output.capture()\n",
    "def add_term(q):\n",
    "    global TERM_IN\n",
    "    list_custome_terms = ctt.CAMSS_SIS_DISCOVERIES\n",
    "    ctt.CAMSS_SIS_DISCOVERIES.append(TERM_IN)\n",
    "    display(list_custome_terms)\n",
    "    \n",
    "display(output)\n",
    "button.on_click(add_term)\n",
    "\n",
    "\n",
    "text_area.on_submit(get_term)\n",
    "    \n",
    "\n",
    "    "
   ]
  },
  {
   "cell_type": "markdown",
   "metadata": {},
   "source": [
    "<h2>4. Functions </h2>\n",
    "    \n",
    "<p style='text-align: justify'>The following code blocks define the functions needed to assign the values to the tab widget and communicate with the Assessments API Microservice developed by CAMSS Team:</p>"
   ]
  },
  {
   "cell_type": "markdown",
   "metadata": {},
   "source": [
    "<h4> a. get_tab_index function:</h4>\n",
    "<p style='text-align: justify'> Method to get the correct Output widget based on the index of the chosen tab. </p"
   ]
  },
  {
   "cell_type": "markdown",
   "metadata": {},
   "source": [
    "<h4> b. send_query function:</h4>\n",
    "<p style='text-align: justify'> Method to run the Assessments API Microservice that sends SPARQL queries to the <a href='https://op.europa.eu/en/publication-detail/-/publication/50ecce27-857e-11e8-ac6a-01aa75ed71a1/language-en![image.png](attachment:5b22dba6-96ba-4400-b673-bbe75d4ffc94.png)![image.png](attachment:e7844137-cf8f-4f96-8352-da68895f17b9.png)![image.png](attachment:8b52e53f-2939-4729-b535-98b4f70f2874.png)'>CELLAR's Virtuoso endpoint.</a></p"
   ]
  },
  {
   "cell_type": "markdown",
   "metadata": {},
   "source": [
    "<strong> <h2>5. Display UI </h2> <strong/>"
   ]
  },
  {
   "cell_type": "code",
   "execution_count": null,
   "metadata": {},
   "outputs": [],
   "source": []
  },
  {
   "cell_type": "code",
   "execution_count": null,
   "metadata": {},
   "outputs": [],
   "source": []
  }
 ],
 "metadata": {
  "interpreter": {
   "hash": "8b4e08f3f0821d332ceb72452c623c89631fe27f6d879961957912e6a9c94f0f"
  },
  "kernelspec": {
   "display_name": "sis_venv",
   "language": "python",
   "name": "sis_venv"
  },
  "language_info": {
   "codemirror_mode": {
    "name": "ipython",
    "version": 3
   },
   "file_extension": ".py",
   "mimetype": "text/x-python",
   "name": "python",
   "nbconvert_exporter": "python",
   "pygments_lexer": "ipython3",
   "version": "3.8.5"
  }
 },
 "nbformat": 4,
 "nbformat_minor": 4
}
